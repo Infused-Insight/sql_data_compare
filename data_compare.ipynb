{
    "cells": [
        {
            "cell_type": "code",
            "execution_count": null,
            "source": [
                "# Run this cell first to configure the environment and DB connection\n",
                "\n",
                "should_debug = True\n",
                "\n",
                "# Config\n",
                "server = 'change.me.com'\n",
                "username = 'change_me'\n",
                "password = 'change_me'\n",
                "database = 'change_me'\n",
                "\n",
                "# Init Jupyter\n",
                "from lib.jupyter_helpers import *\n",
                "from lib.data_comparison import *\n",
                "\n",
                "init_jupyter()\n",
                "\n",
                "# SQL Alchemy Settings\n",
                "# The connection string below is for MS SQL Server. Adjust it for\n",
                "# your database.\n",
                "#\n",
                "# You can find information on that here:\n",
                "# https://docs.sqlalchemy.org/en/14/core/engines.html#database-urls\n",
                "#\n",
                "# You may also need to install the required module for your DB using pip\n",
                "\n",
                "sqlalchemy_conn_str = (\n",
                "    f'mssql+pyodbc://{username}:{quote_plus(password)}@{server}/{database}'\n",
                "    f'?driver=ODBC+Driver+17+for+SQL+Server'\n",
                ")\n",
                "\n",
                "sql_engine = sqlalchemy.create_engine(sqlalchemy_conn_str)\n",
                "sql_engine.connect()\n",
                "\n",
                "log.info(f'Got SQL Alchemy engine: {sql_engine}')\n"
            ],
            "outputs": [],
            "metadata": {}
        },
        {
            "cell_type": "markdown",
            "source": [
                "# Tasks"
            ],
            "metadata": {}
        },
        {
            "cell_type": "markdown",
            "source": [
                "## Compare Table"
            ],
            "metadata": {}
        },
        {
            "cell_type": "code",
            "execution_count": null,
            "source": [
                "schema_orig = 'analysis'\n",
                "table_orig = 'your_table'\n",
                "\n",
                "schema_new = 'analysis'\n",
                "table_new = 'your_table_v2'\n",
                "\n",
                "unique_key = 'id'\n",
                "\n",
                "result = compare_table_data(\n",
                "    sql_engine,\n",
                "    schema_orig,\n",
                "    table_orig,\n",
                "    schema_new,\n",
                "    table_new,\n",
                "    unique_key,\n",
                ")\n",
                "\n",
                "comparison = result['comparison']\n",
                "df_orig = result['df_orig']\n",
                "df_new = result['df_new']\n",
                "report_path = result['report_path']\n",
                "sqlite_path = result['sqlite_path']\n",
                "\n",
                "log.info(f'Open SQLite: open {sqlite_path}')\n",
                "log.info(f'Reveal SQLite: open -R {sqlite_path}')\n",
                "\n",
                "# After running this cell, you'll find the .txt report and .sqlite DB\n",
                "# in the ./comparisons/ directory."
            ],
            "outputs": [],
            "metadata": {}
        },
        {
            "cell_type": "markdown",
            "source": [
                "## Work with datacompy"
            ],
            "metadata": {}
        },
        {
            "cell_type": "code",
            "execution_count": null,
            "source": [
                "# You can also do further analysis using datacompy\n",
                "# with the `comparison` variable.\n",
                "#\n",
                "# Such as...\n",
                "\n",
                "display(comparison.df1_unq_rows)\n",
                "\n",
                "# You can get more info here:\n",
                "# https://capitalone.github.io/datacompy/\n",
                "# https://capitalone.github.io/datacompy/pandas_usage.html"
            ],
            "outputs": [],
            "metadata": {}
        }
    ],
    "metadata": {
        "orig_nbformat": 4,
        "language_info": {
            "name": "python",
            "version": "3.8.6",
            "mimetype": "text/x-python",
            "codemirror_mode": {
                "name": "ipython",
                "version": 3
            },
            "pygments_lexer": "ipython3",
            "nbconvert_exporter": "python",
            "file_extension": ".py"
        },
        "kernelspec": {
            "name": "python3",
            "display_name": "Python 3.8.6 64-bit ('ii_sql_data_compare': pyenv)"
        },
        "interpreter": {
            "hash": "a9e5b927053cbc2813b7acaa66a73b1ea3206f261158469dc85c60a495d68cad"
        }
    },
    "nbformat": 4,
    "nbformat_minor": 2
}